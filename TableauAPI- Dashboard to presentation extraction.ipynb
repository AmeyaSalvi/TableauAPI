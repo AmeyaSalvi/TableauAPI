{
 "cells": [
  {
   "cell_type": "markdown",
   "id": "9b560915",
   "metadata": {},
   "source": [
    "## Extracting a tableau dashboard screenshot while applying multiple filters and creating a presentaion using just a Python code"
   ]
  },
  {
   "cell_type": "markdown",
   "id": "8545a454",
   "metadata": {},
   "source": [
    "## Trick & Tips:\n",
    "The explanation of the basic code is given below. However, in real life sceanario, there might be various Tableau server views with multiple filter combinations needed for creating a presesntation (something that I had to execute for my workspace). For that, please do write codes as multiple functions (functions for creating snapshots, tripmming image, and making presentations seperately) and create iterative code logics that would parse through multiple Tableau Views and filter combinations :)"
   ]
  },
  {
   "cell_type": "markdown",
   "id": "d36218e9",
   "metadata": {},
   "source": [
    "Here, we begin with connecting our python script to the Tableau Dahsboard by using Tableau APIs\n",
    "Connecting to the Tableau server through Tableau-Python API"
   ]
  },
  {
   "cell_type": "code",
   "execution_count": null,
   "id": "ee639e6d",
   "metadata": {},
   "outputs": [],
   "source": [
    "from tableau_api_lib import TableauServerConnection\n",
    "from tableau_api_lib.utils.querying import get_views_dataframe, get_view_data_dataframe"
   ]
  },
  {
   "cell_type": "markdown",
   "id": "8029e8fe",
   "metadata": {},
   "source": [
    "This is the credential we are going to use for communicating with your tableau server. \n",
    "1. The server name should be your company/public Tableau server name. Replace the xyz below with the whatever that name is. For eg: Salesforce, Google. \n",
    "2. The api version can be the latest version of the Tabelau API available. Here, I'm using 3.9\n",
    "3. The username and password should be associated with the credentials that enable you to view the desired Tableau site.\n",
    "4. The site name and site url should be the designated Tbaleau site name of your company. You should be able to get that through your URL (the url will contain your site)"
   ]
  },
  {
   "cell_type": "code",
   "execution_count": null,
   "id": "a1fb43dd",
   "metadata": {},
   "outputs": [],
   "source": [
    "tableau_server_config = {\n",
    "        'tableau_prod': {\n",
    "                'server': 'https://tableau.xyz.com',  \n",
    "                'api_version': '3.9',\n",
    "                'username': 'Username',\n",
    "                'password': 'Passowrd',\n",
    "                'site_name': 'YourSiteName',\n",
    "                'site_url': 'YourSiteURLName'}}\n"
   ]
  },
  {
   "cell_type": "markdown",
   "id": "e6e79657",
   "metadata": {},
   "source": [
    "This can be used to check your connection.\n",
    "If the connection is active the reponse will be : <Response [200]>"
   ]
  },
  {
   "cell_type": "code",
   "execution_count": null,
   "id": "a1a716fb",
   "metadata": {},
   "outputs": [],
   "source": [
    "conn = TableauServerConnection(tableau_server_config)\n",
    "conn.sign_in()"
   ]
  },
  {
   "cell_type": "markdown",
   "id": "135a8bc6",
   "metadata": {},
   "source": [
    "The below code is used to get all the names of the views present in your server.\n",
    "The print statement will print all the published Tableau views and their ids present in the Site URL name you mentioned above.\n",
    "This is a really important step as you may require the View <-> ID mapping in order to capture a particular tableau view."
   ]
  },
  {
   "cell_type": "code",
   "execution_count": null,
   "id": "45624eab",
   "metadata": {},
   "outputs": [],
   "source": [
    "import pandas as pd\n",
    "pd.set_option('display.max_rows', None)\n",
    "\n",
    "views_df = get_views_dataframe(conn)\n",
    "print(views_df[['name', 'id']])"
   ]
  },
  {
   "cell_type": "markdown",
   "id": "102f7c36",
   "metadata": {},
   "source": [
    "### Accessing the Tableau server dashboard view"
   ]
  },
  {
   "cell_type": "markdown",
   "id": "cc07c21d",
   "metadata": {},
   "source": [
    "Below are the parameters of the screen capture we wish to apply. the list is called pdf_params and these are \n",
    "the values needed to be passed through the API. \n",
    "The filter value is the filter 'Name' you'd want to apply. For example: Country, Sales Division, Rank number etc\n",
    "I've assigned it as None now, because i'll show you show to pass on a single filter value as well as multiple combination of filters."
   ]
  },
  {
   "cell_type": "code",
   "execution_count": null,
   "id": "bce3efaf",
   "metadata": {},
   "outputs": [],
   "source": [
    "pdf_params = {\n",
    "            'type': 'type=A4',\n",
    "            'orientation': 'orientation=Landscape',\n",
    "            'filter': None }"
   ]
  },
  {
   "cell_type": "markdown",
   "id": "c39c0f14",
   "metadata": {},
   "source": [
    "Here,we're plugging in value for the 'filter' key of the pdf_params dictionary above.\n",
    "1. The first filter is associated with the filters called 'Region' (This should be present in the dashboard you're viewing). Here, we want the dashboard to filter out on the Region==AMS filter.\n",
    "2. The second filter is an example of applying two filters the Region as well as Department filter. Here, we want the dashboard to filter out on the Region==AMS and Department==Sales filter "
   ]
  },
  {
   "cell_type": "code",
   "execution_count": null,
   "id": "a4135b0e",
   "metadata": {},
   "outputs": [],
   "source": [
    "pdf_params['filter'] = f'vf_Region={AMS}'\n",
    "pdf_params['filter'] = f'vf_Region={AMS}&vf_Department={Sales}' "
   ]
  },
  {
   "cell_type": "markdown",
   "id": "478bc029",
   "metadata": {},
   "source": [
    "When you want a screen grab of your newly filter applied dashboard view, write the code below. Here, we need to pass the dashboard_view_id which is the corresponding id of the Tableau server view you want to capture. (use the above list to map and plug in the id value)"
   ]
  },
  {
   "cell_type": "code",
   "execution_count": null,
   "id": "44a0c780",
   "metadata": {},
   "outputs": [],
   "source": [
    "img = conn.query_view_image(view_id=dashboard_view_id, parameter_dict=pdf_params)"
   ]
  },
  {
   "cell_type": "markdown",
   "id": "580ff8a7",
   "metadata": {},
   "source": [
    "The below code is for saving the image screenshot of the applied Tableau server view, in the desired path"
   ]
  },
  {
   "cell_type": "code",
   "execution_count": null,
   "id": "04ff035a",
   "metadata": {},
   "outputs": [],
   "source": [
    "with open(os.path.join(os.path.abspath('./Tableau_Screenshot_Export'),f'export.png'), 'wb') as img_file:\n",
    "                    img_file.write(img.content)"
   ]
  },
  {
   "cell_type": "markdown",
   "id": "d0130dab",
   "metadata": {},
   "source": [
    "### Altering the Dashboard Image"
   ]
  },
  {
   "cell_type": "markdown",
   "id": "76bb3603",
   "metadata": {},
   "source": [
    "We're going to crop the image present in our folder based on our requirements"
   ]
  },
  {
   "cell_type": "code",
   "execution_count": null,
   "id": "86dc432e",
   "metadata": {},
   "outputs": [],
   "source": [
    "# For cropping the image\n",
    "import os\n",
    "from PIL import Image\n",
    "\n",
    "im = Image.open(os.path.join(abs_path,f'{item}-{name}.png'))\n",
    "\n",
    "#Image dimensions        \n",
    "width, height = im.size\n",
    "#print(width,height)\n",
    "                    \n",
    "#parameter for 1st\n",
    "left = 5;top = 140;right = 1420;bottom = 1172\n",
    "im1 = im.crop((left, top, right, bottom))\n",
    "        \n",
    "im1.save(os.path.join(abs_path,f'export_new.png'))"
   ]
  },
  {
   "cell_type": "markdown",
   "id": "25f862b8",
   "metadata": {},
   "source": [
    "### Creating a presentation"
   ]
  },
  {
   "cell_type": "markdown",
   "id": "2b442d84",
   "metadata": {},
   "source": [
    "This is a presentation creator. We'll be using the trimmed image above to be placed on the first blank slide on this 5 page bln]ank prsenattion (because we've specified 5 in the code)"
   ]
  },
  {
   "cell_type": "code",
   "execution_count": null,
   "id": "06ffde0c",
   "metadata": {},
   "outputs": [],
   "source": [
    "from pptx import Presentation \n",
    "from pptx.util import Inches \n",
    "import glob\n",
    "\n",
    "\n",
    "# Creating an Presentation object\n",
    "\n",
    "ppt = Presentation(os.path.abspath('./Q2 2021 Template.pptx')) \n",
    "\n",
    "# Selecting blank slide\n",
    "blank_slide_layout = ppt.slide_layouts[5] \n",
    "slide=ppt.slides[0]\n",
    "left=Inches(0.5)\n",
    "top = Inches(0.41)\n",
    "height= Inches(6.15)\n",
    "right=0.1\n",
    "width = Inches(9.1)\n",
    "\n",
    "img_path = /*plug in the image path*/\n",
    "pic = slide.shapes.add_picture(img_path, left, top, width, height)\n",
    "\n",
    "# Save file\n",
    "ppt.save(f'./Dashboard_Export/ppt/Presentation.pptx')\n"
   ]
  }
 ],
 "metadata": {
  "kernelspec": {
   "display_name": "Python 3 (ipykernel)",
   "language": "python",
   "name": "python3"
  },
  "language_info": {
   "codemirror_mode": {
    "name": "ipython",
    "version": 3
   },
   "file_extension": ".py",
   "mimetype": "text/x-python",
   "name": "python",
   "nbconvert_exporter": "python",
   "pygments_lexer": "ipython3",
   "version": "3.9.12"
  }
 },
 "nbformat": 4,
 "nbformat_minor": 5
}
